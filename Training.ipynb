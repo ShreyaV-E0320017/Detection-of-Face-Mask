{
 "cells": [
  {
   "cell_type": "code",
   "execution_count": 1,
   "id": "solved-genetics",
   "metadata": {},
   "outputs": [],
   "source": [
    "from tensorflow.keras.preprocessing.image import ImageDataGenerator\n",
    "from tensorflow.keras.applications import MobileNetV2\n",
    "from tensorflow.keras.layers import AveragePooling2D\n",
    "from tensorflow.keras.layers import Dropout\n",
    "from tensorflow.keras.layers import Flatten\n",
    "from tensorflow.keras.layers import Dense\n",
    "from tensorflow.keras.layers import Input\n",
    "from tensorflow.keras.models import Model\n",
    "from tensorflow.keras.optimizers import Adam\n",
    "from tensorflow.keras.applications.mobilenet_v2 import preprocess_input\n",
    "from tensorflow.keras.preprocessing.image import img_to_array\n",
    "from tensorflow.keras.preprocessing.image import load_img\n",
    "from tensorflow.keras.utils import to_categorical\n",
    "from sklearn.preprocessing import LabelBinarizer\n",
    "from sklearn.model_selection import train_test_split\n",
    "from sklearn.metrics import classification_report\n",
    "from imutils import paths\n",
    "import matplotlib.pyplot as plt\n",
    "import numpy as np\n",
    "import os"
   ]
  },
  {
   "cell_type": "code",
   "execution_count": 2,
   "id": "alleged-fundamental",
   "metadata": {},
   "outputs": [],
   "source": [
    "INIT_LR=1e-4 #Initial Learning rate\n",
    "EPOCHS=20  #Epochs\n",
    "BS=32  #Batch size"
   ]
  },
  {
   "cell_type": "code",
   "execution_count": 3,
   "id": "following-father",
   "metadata": {},
   "outputs": [],
   "source": [
    "Dataset = r\"C:\\Users\\GVS-PC\\Downloads\\facemask\\Dataset\"\n",
    "CATEGORIES = [\"with_mask\", \"without_mask\"]"
   ]
  },
  {
   "cell_type": "code",
   "execution_count": 4,
   "id": "brave-essay",
   "metadata": {},
   "outputs": [],
   "source": [
    "data = []\n",
    "labels = []\n",
    "\n",
    "for category in CATEGORIES:\n",
    "    path=os.path.join(Dataset, category)\n",
    "    for img in os.listdir(path):\n",
    "        img_path=os.path.join(path, img)\n",
    "        image=load_img(img_path, target_size=(224, 224))\n",
    "        image=img_to_array(image)\n",
    "        image=preprocess_input(image)\n",
    "\n",
    "        data.append(image)\n",
    "        labels.append(category)"
   ]
  },
  {
   "cell_type": "code",
   "execution_count": 5,
   "id": "continuous-headquarters",
   "metadata": {},
   "outputs": [],
   "source": [
    "lb=LabelBinarizer()\n",
    "labels=lb.fit_transform(labels)\n",
    "labels=to_categorical(labels)\n",
    "\n",
    "data=np.array(data, dtype=\"float32\")\n",
    "labels=np.array(labels)\n",
    "\n",
    "(X_train, X_test, Y_train, Y_test) = train_test_split(data, labels,test_size=0.20, stratify=labels, random_state=42)"
   ]
  },
  {
   "cell_type": "code",
   "execution_count": 6,
   "id": "cubic-letter",
   "metadata": {},
   "outputs": [],
   "source": [
    "#Augmentation\n",
    "augmentation=ImageDataGenerator(rotation_range=20,zoom_range=0.15,width_shift_range=0.2,height_shift_range=0.2,shear_range=0.15,horizontal_flip=True,fill_mode=\"nearest\")"
   ]
  },
  {
   "cell_type": "code",
   "execution_count": 7,
   "id": "delayed-grill",
   "metadata": {},
   "outputs": [
    {
     "name": "stdout",
     "output_type": "stream",
     "text": [
      "WARNING:tensorflow:`input_shape` is undefined or non-square, or `rows` is not in [96, 128, 160, 192, 224]. Weights for input shape (224, 224) will be loaded as the default.\n"
     ]
    }
   ],
   "source": [
    "#Base model using MobileNet instead of convolutional layer\n",
    "baseModel=MobileNetV2(weights=\"imagenet\", include_top=False,input_tensor=Input(shape=(224, 224, 3)))"
   ]
  },
  {
   "cell_type": "code",
   "execution_count": 8,
   "id": "associate-cardiff",
   "metadata": {},
   "outputs": [],
   "source": [
    "#Basic Neural Network with MaxPooling layers \n",
    "headModel=baseModel.output\n",
    "headModel=AveragePooling2D(pool_size=(7, 7))(headModel)\n",
    "headModel=Flatten(name=\"flatten\")(headModel)\n",
    "headModel=Dense(128, activation=\"relu\")(headModel)\n",
    "headModel=Dropout(0.5)(headModel)\n",
    "headModel=Dense(2, activation=\"softmax\")(headModel)"
   ]
  },
  {
   "cell_type": "code",
   "execution_count": 9,
   "id": "moderate-flooring",
   "metadata": {},
   "outputs": [],
   "source": [
    "#The final model\n",
    "model=Model(inputs=baseModel.input, outputs=headModel)"
   ]
  },
  {
   "cell_type": "code",
   "execution_count": 10,
   "id": "sunrise-contributor",
   "metadata": {},
   "outputs": [
    {
     "name": "stdout",
     "output_type": "stream",
     "text": [
      "[INFO] compiling model...\n"
     ]
    }
   ],
   "source": [
    "for layer in baseModel.layers:\n",
    "    layer.trainable = False\n",
    "print(\"[INFO] compiling model...\")\n",
    "opt = Adam(lr=INIT_LR, decay=INIT_LR / EPOCHS)\n",
    "model.compile(loss=\"binary_crossentropy\", optimizer=opt,metrics=[\"accuracy\"])"
   ]
  },
  {
   "cell_type": "code",
   "execution_count": 11,
   "id": "suitable-mobile",
   "metadata": {},
   "outputs": [
    {
     "name": "stdout",
     "output_type": "stream",
     "text": [
      "[INFO] training model...\n",
      "Epoch 1/20\n",
      "2/2 [==============================] - 2s 906ms/step - loss: 0.9832 - accuracy: 0.5682\n",
      "Epoch 2/20\n",
      "2/2 [==============================] - 1s 711ms/step - loss: 0.5928 - accuracy: 0.7344\n",
      "Epoch 3/20\n",
      "2/2 [==============================] - 1s 723ms/step - loss: 0.6726 - accuracy: 0.6406\n",
      "Epoch 4/20\n",
      "2/2 [==============================] - 2s 922ms/step - loss: 0.5008 - accuracy: 0.7727\n",
      "Epoch 5/20\n",
      "2/2 [==============================] - 1s 298ms/step - loss: 0.5244 - accuracy: 0.7045\n",
      "Epoch 6/20\n",
      "2/2 [==============================] - 2s 771ms/step - loss: 0.3998 - accuracy: 0.8438\n",
      "Epoch 7/20\n",
      "2/2 [==============================] - 2s 883ms/step - loss: 0.4025 - accuracy: 0.8125\n",
      "Epoch 8/20\n",
      "2/2 [==============================] - 2s 914ms/step - loss: 0.3261 - accuracy: 0.8594\n",
      "Epoch 9/20\n",
      "2/2 [==============================] - 2s 1s/step - loss: 0.2598 - accuracy: 0.8864\n",
      "Epoch 10/20\n",
      "2/2 [==============================] - 2s 1s/step - loss: 0.3051 - accuracy: 0.8636\n",
      "Epoch 11/20\n",
      "2/2 [==============================] - 1s 354ms/step - loss: 0.2460 - accuracy: 0.9091\n",
      "Epoch 12/20\n",
      "2/2 [==============================] - 2s 878ms/step - loss: 0.2499 - accuracy: 0.8906\n",
      "Epoch 13/20\n",
      "2/2 [==============================] - 2s 824ms/step - loss: 0.2635 - accuracy: 0.9062\n",
      "Epoch 14/20\n",
      "2/2 [==============================] - 1s 379ms/step - loss: 0.2535 - accuracy: 0.9318\n",
      "Epoch 15/20\n",
      "2/2 [==============================] - 3s 1s/step - loss: 0.2292 - accuracy: 0.8864\n",
      "Epoch 16/20\n",
      "2/2 [==============================] - 1s 418ms/step - loss: 0.1430 - accuracy: 0.9545\n",
      "Epoch 17/20\n",
      "2/2 [==============================] - 1s 435ms/step - loss: 0.1962 - accuracy: 0.9318\n",
      "Epoch 18/20\n",
      "2/2 [==============================] - 1s 399ms/step - loss: 0.1317 - accuracy: 0.9318\n",
      "Epoch 19/20\n",
      "2/2 [==============================] - 2s 980ms/step - loss: 0.1404 - accuracy: 0.9844\n",
      "Epoch 20/20\n",
      "2/2 [==============================] - 2s 1s/step - loss: 0.1520 - accuracy: 0.9688\n"
     ]
    }
   ],
   "source": [
    "print(\"[INFO] training model...\")\n",
    "H = model.fit(augmentation.flow(X_train, Y_train, batch_size=BS),steps_per_epoch=len(X_train) // BS,validation_data=(X_test, Y_test),validation_steps=len(X_test) // BS,epochs=EPOCHS)"
   ]
  },
  {
   "cell_type": "code",
   "execution_count": 12,
   "id": "dressed-nudist",
   "metadata": {},
   "outputs": [
    {
     "name": "stdout",
     "output_type": "stream",
     "text": [
      "[INFO] evaluating network...\n"
     ]
    }
   ],
   "source": [
    "print(\"[INFO] evaluating network...\")\n",
    "predIdxs = model.predict(X_test, batch_size=BS)\n",
    "predIdxs = np.argmax(predIdxs, axis=1)"
   ]
  },
  {
   "cell_type": "code",
   "execution_count": 13,
   "id": "rotary-browse",
   "metadata": {},
   "outputs": [
    {
     "name": "stdout",
     "output_type": "stream",
     "text": [
      "[INFO] saving mask detector model...\n"
     ]
    }
   ],
   "source": [
    "print(\"[INFO] saving mask detector model...\")\n",
    "model.save(\"mask_detector.model\", save_format=\"h5\")"
   ]
  }
 ],
 "metadata": {
  "kernelspec": {
   "display_name": "Python 3",
   "language": "python",
   "name": "python3"
  },
  "language_info": {
   "codemirror_mode": {
    "name": "ipython",
    "version": 3
   },
   "file_extension": ".py",
   "mimetype": "text/x-python",
   "name": "python",
   "nbconvert_exporter": "python",
   "pygments_lexer": "ipython3",
   "version": "3.8.8"
  }
 },
 "nbformat": 4,
 "nbformat_minor": 5
}
